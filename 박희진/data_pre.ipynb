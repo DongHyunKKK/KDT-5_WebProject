{
 "cells": [
  {
   "cell_type": "code",
   "execution_count": 8,
   "metadata": {},
   "outputs": [],
   "source": [
    "import pandas as pd\n",
    "from selenium import webdriver\n",
    "from selenium.webdriver.common.by import By\n",
    "import re\n",
    "import time\n",
    "import csv\n",
    "import pandas as pd\n",
    "path = pd.read_csv('movie_path.csv', sep='\\t')\n",
    "paths = path['-href']"
   ]
  },
  {
   "cell_type": "code",
   "execution_count": 11,
   "metadata": {},
   "outputs": [
    {
     "data": {
      "text/plain": [
       "(10000, 3)"
      ]
     },
     "execution_count": 11,
     "metadata": {},
     "output_type": "execute_result"
    }
   ],
   "source": [
    "path.shape"
   ]
  },
  {
   "cell_type": "code",
   "execution_count": 12,
   "metadata": {},
   "outputs": [
    {
     "data": {
      "text/plain": [
       "Jason X                                                    https://www.themoviedb.org/movie/11470\n",
       "She's the Man                                               https://www.themoviedb.org/movie/9655\n",
       "Gold                                                      https://www.themoviedb.org/movie/760926\n",
       "Miraculous World: Shanghai – The Legend of Ladydragon     https://www.themoviedb.org/movie/726684\n",
       "Inherent Vice                                             https://www.themoviedb.org/movie/171274\n",
       "                                                                           ...                   \n",
       "Abduction                                                  https://www.themoviedb.org/movie/59965\n",
       "Flags of Our Fathers                                        https://www.themoviedb.org/movie/3683\n",
       "Marivillin Gopurangal                                    https://www.themoviedb.org/movie/1093671\n",
       "Trolls Holiday                                            https://www.themoviedb.org/movie/484510\n",
       "Lone Wolf McQuade                                          https://www.themoviedb.org/movie/14854\n",
       "Name: -href, Length: 2500, dtype: object"
      ]
     },
     "execution_count": 12,
     "metadata": {},
     "output_type": "execute_result"
    }
   ],
   "source": [
    "hw_movie_paths= paths[2500:5000]\n",
    "hw_movie_paths = paths[5000:7500]\n",
    "dh_movie_paths = paths[7500:10000]"
   ]
  },
  {
   "cell_type": "code",
   "execution_count": null,
   "metadata": {},
   "outputs": [],
   "source": []
  },
  {
   "cell_type": "code",
   "execution_count": 1,
   "metadata": {},
   "outputs": [],
   "source": [
    "import os\n",
    "from PIL import Image\n",
    "import numpy as np\n",
    "\n",
    "# 이미지 증강 함수\n",
    "from PIL import Image\n",
    "import os\n",
    "\n",
    "def img_up(genre, rotation_angle):\n",
    "    # 회전 각도 설정\n",
    "    folder_path = f'data/{genre}'\n",
    "    rotation_angle = rotation_angle \n",
    "    for filename in os.listdir(folder_path):\n",
    "        # 파일 경로 확인\n",
    "        file_path = os.path.join(folder_path, filename)\n",
    "        # 이미지 파일 경로\n",
    "        img_path = file_path\n",
    "        # 이미지 불러오기\n",
    "        img = Image.open(img_path)\n",
    "        # 이미지 회전\n",
    "        rotated_img = img.rotate(rotation_angle)\n",
    "        # 회전된 이미지 저장 (파일명에 회전 각도 추가)\n",
    "        rotated_img_path = os.path.join(folder_path, filename.split('.')[0] + f\"_rotated_{rotation_angle}.jpg\")\n",
    "        rotated_img.save(rotated_img_path)\n",
    "\n"
   ]
  },
  {
   "cell_type": "code",
   "execution_count": null,
   "metadata": {},
   "outputs": [],
   "source": [
    "img_up('SF', 45)"
   ]
  },
  {
   "cell_type": "code",
   "execution_count": 9,
   "metadata": {},
   "outputs": [],
   "source": [
    "img_up('SF', 90)"
   ]
  },
  {
   "cell_type": "code",
   "execution_count": 22,
   "metadata": {},
   "outputs": [],
   "source": [
    "img_up('SF', 165)"
   ]
  },
  {
   "cell_type": "code",
   "execution_count": 16,
   "metadata": {},
   "outputs": [],
   "source": [
    "img_up('SF', 180)"
   ]
  },
  {
   "cell_type": "code",
   "execution_count": 12,
   "metadata": {},
   "outputs": [],
   "source": [
    "img_up('Romance', 45)"
   ]
  },
  {
   "cell_type": "code",
   "execution_count": 15,
   "metadata": {},
   "outputs": [],
   "source": [
    "img_up('Romance', 180)"
   ]
  },
  {
   "cell_type": "code",
   "execution_count": 13,
   "metadata": {},
   "outputs": [],
   "source": [
    "img_up('Action', 45)"
   ]
  },
  {
   "cell_type": "code",
   "execution_count": 2,
   "metadata": {},
   "outputs": [],
   "source": [
    "img_up('Action', 90)"
   ]
  },
  {
   "cell_type": "code",
   "execution_count": 17,
   "metadata": {},
   "outputs": [],
   "source": [
    "img_up('Action', 180)"
   ]
  },
  {
   "cell_type": "code",
   "execution_count": 14,
   "metadata": {},
   "outputs": [],
   "source": [
    "img_up('Animation', 45)"
   ]
  },
  {
   "cell_type": "code",
   "execution_count": 3,
   "metadata": {},
   "outputs": [],
   "source": [
    "img_up('Animation', 90)"
   ]
  },
  {
   "cell_type": "code",
   "execution_count": 18,
   "metadata": {},
   "outputs": [],
   "source": [
    "img_up('Animation', 180)"
   ]
  },
  {
   "cell_type": "code",
   "execution_count": 21,
   "metadata": {},
   "outputs": [],
   "source": [
    "img_up('Comedy&Drama', 45)"
   ]
  },
  {
   "cell_type": "code",
   "execution_count": 19,
   "metadata": {},
   "outputs": [],
   "source": [
    "img_up('Comedy&Drama', 180)"
   ]
  },
  {
   "cell_type": "code",
   "execution_count": 20,
   "metadata": {},
   "outputs": [],
   "source": [
    "img_up('Horror', 180)"
   ]
  },
  {
   "cell_type": "code",
   "execution_count": null,
   "metadata": {},
   "outputs": [],
   "source": []
  }
 ],
 "metadata": {
  "kernelspec": {
   "display_name": "PY38",
   "language": "python",
   "name": "python3"
  },
  "language_info": {
   "codemirror_mode": {
    "name": "ipython",
    "version": 3
   },
   "file_extension": ".py",
   "mimetype": "text/x-python",
   "name": "python",
   "nbconvert_exporter": "python",
   "pygments_lexer": "ipython3",
   "version": "3.8.19"
  }
 },
 "nbformat": 4,
 "nbformat_minor": 2
}
